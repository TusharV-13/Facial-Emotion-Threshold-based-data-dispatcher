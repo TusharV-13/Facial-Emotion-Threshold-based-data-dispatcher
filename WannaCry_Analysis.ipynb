{
  "nbformat": 4,
  "nbformat_minor": 0,
  "metadata": {
    "colab": {
      "name": "WannaCry Analysis.ipynb",
      "provenance": [],
      "collapsed_sections": [],
      "include_colab_link": true
    },
    "kernelspec": {
      "name": "python3",
      "display_name": "Python 3"
    },
    "language_info": {
      "name": "python"
    },
    "accelerator": "GPU"
  },
  "cells": [
    {
      "cell_type": "markdown",
      "metadata": {
        "id": "view-in-github",
        "colab_type": "text"
      },
      "source": [
        "<a href=\"https://colab.research.google.com/github/TusharV-13/Facial-Emotion-Threshold-based-data-dispatcher/blob/main/WannaCry_Analysis.ipynb\" target=\"_parent\"><img src=\"https://colab.research.google.com/assets/colab-badge.svg\" alt=\"Open In Colab\"/></a>"
      ]
    },
    {
      "cell_type": "code",
      "execution_count": 7,
      "metadata": {
        "id": "U_2tzstqjgC5"
      },
      "outputs": [],
      "source": [
        "import pandas as pd\n",
        "import matplotlib.pyplot as plt\n",
        "from sklearn.model_selection import train_test_split\n",
        "from keras.layers import Input, Dense\n",
        "from keras import regularizers\n",
        "from keras.models import Model, load_model\n",
        "from keras.callbacks import ModelCheckpoint\n",
        "import numpy as np\n",
        "import tensorflow as tf\n",
        "import sys\n",
        "from sklearn.metrics import (confusion_matrix, precision_recall_curve, auc,roc_curve, recall_score, classification_report, f1_score,precision_recall_fscore_support)"
      ]
    },
    {
      "cell_type": "code",
      "source": [
        "# Retrieve and prepare data\n",
        "wannacry_data = pd.read_csv(\"https://raw.githubusercontent.com/TusharV-13/Ransomeware_Detection_using_autoencoder-WannaCry-Case-/main/Dataset/wannacry.csv\")\n",
        "benign_data = pd.read_csv(\"https://raw.githubusercontent.com/TusharV-13/Ransomeware_Detection_using_autoencoder-WannaCry-Case-/main/Dataset/malacious_data.csv\").sample(frac = 1)\n",
        "malware_data = pd.read_csv(\"https://raw.githubusercontent.com/TusharV-13/Ransomeware_Detection_using_autoencoder-WannaCry-Case-/main/Dataset/malware_data.csv\").sample(frac = 1)\n",
        "malware_train, malware_test = train_test_split(malware_data, test_size = 0.08)"
      ],
      "metadata": {
        "id": "XKLqUyg9JIis"
      },
      "execution_count": 8,
      "outputs": []
    },
    {
      "cell_type": "code",
      "source": [
        "# Autoencoder design\n",
        "input_dim = malware_train.shape[1]\n",
        "input_layer = Input(shape=(input_dim, ))\n",
        "nodes_number = 17\n",
        "while (nodes_number>=3):\n",
        "    if nodes_number == 17:\n",
        "        layer = Dense(nodes_number, activation='tanh')(input_layer)\n",
        "    else:\n",
        "        layer = Dense(nodes_number, activation='tanh')(layer)\n",
        "    nodes_number=nodes_number-2\n",
        "nodes_number=5\n",
        "while(nodes_number<=17):\n",
        "    layer = Dense(nodes_number, activation='tanh')(layer)\n",
        "    nodes_number=nodes_number+2\n",
        "output_layer = Dense(input_dim, activation='tanh')(layer)\n",
        "autoencoder = Model(inputs=input_layer, outputs=output_layer)\n",
        "\n",
        "nb_epoch = 20\n",
        "batch_size = 18\n",
        "autoencoder.compile(optimizer='adam', loss='mean_squared_error', metrics=['accuracy'])\n",
        "checkpointer = ModelCheckpoint(filepath=\"autoencoder.h5\", verbose=0, save_best_only=True)"
      ],
      "metadata": {
        "id": "r0cTds8rKbCL"
      },
      "execution_count": 9,
      "outputs": []
    },
    {
      "cell_type": "code",
      "source": [
        "history = autoencoder.fit(malware_train, malware_train, epochs=nb_epoch, batch_size=batch_size, shuffle=True, validation_data=(malware_test, malware_test), verbose=1, callbacks=[checkpointer]).history\n",
        "autoencoder = load_model('autoencoder.h5')\n",
        "\n",
        "predictions_malware = autoencoder.predict(malware_test)\n",
        "mse_malware = np.mean(np.power(malware_test - predictions_malware, 2), axis=1)\n",
        "\n",
        "predictions_benign_data = autoencoder.predict(benign_data)\n",
        "mse_benign = np.mean(np.power(benign_data - predictions_benign_data, 2), axis=1)\n",
        "\n",
        "predictions_wannacry_data = autoencoder.predict(wannacry_data)\n",
        "mse_wannacry_data = np.mean(np.power(wannacry_data - predictions_wannacry_data, 2), axis=1)\n",
        "\n",
        "threshold = np.average(mse_malware)"
      ],
      "metadata": {
        "colab": {
          "base_uri": "https://localhost:8080/"
        },
        "id": "U4KaqIjweBr2",
        "outputId": "ccf58ee1-c753-4e02-aae7-5be5125665a7"
      },
      "execution_count": 10,
      "outputs": [
        {
          "output_type": "stream",
          "name": "stdout",
          "text": [
            "Epoch 1/20\n",
            "310/310 [==============================] - 3s 7ms/step - loss: 11800588.0000 - accuracy: 0.4163 - val_loss: 8145790.0000 - val_accuracy: 0.4371\n",
            "Epoch 2/20\n",
            "310/310 [==============================] - 2s 6ms/step - loss: 11800457.0000 - accuracy: 0.4204 - val_loss: 8145784.5000 - val_accuracy: 0.4371\n",
            "Epoch 3/20\n",
            "310/310 [==============================] - 2s 6ms/step - loss: 11800449.0000 - accuracy: 0.5339 - val_loss: 8145783.5000 - val_accuracy: 0.5402\n",
            "Epoch 4/20\n",
            "310/310 [==============================] - 2s 6ms/step - loss: 11800447.0000 - accuracy: 0.5363 - val_loss: 8145782.0000 - val_accuracy: 0.5402\n",
            "Epoch 5/20\n",
            "310/310 [==============================] - 2s 6ms/step - loss: 11800454.0000 - accuracy: 0.5363 - val_loss: 8145782.0000 - val_accuracy: 0.5402\n",
            "Epoch 6/20\n",
            "310/310 [==============================] - 2s 6ms/step - loss: 11800450.0000 - accuracy: 0.5363 - val_loss: 8145782.0000 - val_accuracy: 0.5402\n",
            "Epoch 7/20\n",
            "310/310 [==============================] - 2s 6ms/step - loss: 11800452.0000 - accuracy: 0.5363 - val_loss: 8145782.0000 - val_accuracy: 0.5402\n",
            "Epoch 8/20\n",
            "310/310 [==============================] - 2s 7ms/step - loss: 11800447.0000 - accuracy: 0.5363 - val_loss: 8145782.0000 - val_accuracy: 0.5402\n",
            "Epoch 9/20\n",
            "310/310 [==============================] - 2s 6ms/step - loss: 11800451.0000 - accuracy: 0.5363 - val_loss: 8145782.0000 - val_accuracy: 0.5402\n",
            "Epoch 10/20\n",
            "310/310 [==============================] - 2s 6ms/step - loss: 11800458.0000 - accuracy: 0.5363 - val_loss: 8145782.0000 - val_accuracy: 0.5402\n",
            "Epoch 11/20\n",
            "310/310 [==============================] - 2s 6ms/step - loss: 11800454.0000 - accuracy: 0.5363 - val_loss: 8145782.0000 - val_accuracy: 0.5402\n",
            "Epoch 12/20\n",
            "310/310 [==============================] - 2s 6ms/step - loss: 11800449.0000 - accuracy: 0.5363 - val_loss: 8145782.0000 - val_accuracy: 0.5402\n",
            "Epoch 13/20\n",
            "310/310 [==============================] - 2s 6ms/step - loss: 11800453.0000 - accuracy: 0.5363 - val_loss: 8145782.0000 - val_accuracy: 0.5402\n",
            "Epoch 14/20\n",
            "310/310 [==============================] - 2s 6ms/step - loss: 11800452.0000 - accuracy: 0.5363 - val_loss: 8145782.0000 - val_accuracy: 0.5402\n",
            "Epoch 15/20\n",
            "310/310 [==============================] - 2s 6ms/step - loss: 11800452.0000 - accuracy: 0.5363 - val_loss: 8145782.0000 - val_accuracy: 0.5402\n",
            "Epoch 16/20\n",
            "310/310 [==============================] - 2s 6ms/step - loss: 11800447.0000 - accuracy: 0.5363 - val_loss: 8145782.0000 - val_accuracy: 0.5402\n",
            "Epoch 17/20\n",
            "310/310 [==============================] - 2s 6ms/step - loss: 11800449.0000 - accuracy: 0.5363 - val_loss: 8145782.0000 - val_accuracy: 0.5402\n",
            "Epoch 18/20\n",
            "310/310 [==============================] - 2s 6ms/step - loss: 11800450.0000 - accuracy: 0.5363 - val_loss: 8145782.0000 - val_accuracy: 0.5402\n",
            "Epoch 19/20\n",
            "310/310 [==============================] - 2s 6ms/step - loss: 11800450.0000 - accuracy: 0.5363 - val_loss: 8145782.0000 - val_accuracy: 0.5402\n",
            "Epoch 20/20\n",
            "310/310 [==============================] - 2s 6ms/step - loss: 11800447.0000 - accuracy: 0.5363 - val_loss: 8145782.0000 - val_accuracy: 0.5402\n"
          ]
        }
      ]
    },
    {
      "cell_type": "code",
      "source": [
        "acc=0\n",
        "rec = 0\n",
        "\n",
        "# fine tune the threshold if needed\n",
        "while rec<.6 or acc<.6 :\n",
        "    threshold = threshold - 0.0001\n",
        "    print(threshold)\n",
        "    TP,FP,TN,FN=0,0,0,0\n",
        "    for e in mse_malware:\n",
        "        if e<threshold:\n",
        "            TP+=1\n",
        "        else:\n",
        "            FN+=1\n",
        "    for e in mse_benign:\n",
        "        if e>=threshold:\n",
        "            TN+=1\n",
        "        else:\n",
        "            FP+=1\n",
        "    try:\n",
        "        acc = 1.*(TP+TN)/(TP+TN+FP+FN)\n",
        "        rec = 1.*(TP)/(TP+FN)\n",
        "        prec = 1. * TP / (TP + FP)\n",
        "        print (f\"TP:{TP}\\nFP:{FP}\\nTN:{TN}\\nFN:{FN}\")\n",
        "        print (f\"Accuracy: {acc}\\nRecall: {rec}\\nPrecision: {prec}\")\n",
        "    except:\n",
        "        pass"
      ],
      "metadata": {
        "colab": {
          "base_uri": "https://localhost:8080/"
        },
        "id": "Vla0WTH3en7A",
        "outputId": "e792a07e-ff0f-4bc2-fd82-ca6f865ce341"
      },
      "execution_count": 11,
      "outputs": [
        {
          "output_type": "stream",
          "name": "stdout",
          "text": [
            "8145782.058864454\n",
            "TP:446\n",
            "FP:222\n",
            "TN:150\n",
            "FN:39\n",
            "Accuracy: 0.6954492415402567\n",
            "Recall: 0.9195876288659793\n",
            "Precision: 0.6676646706586826\n"
          ]
        }
      ]
    },
    {
      "cell_type": "code",
      "source": [
        "#Generating plot to assess autoencoder model\n",
        "prediction_certitude = 0\n",
        "fig, ax = plt.subplots()\n",
        "i = 0\n",
        "for e in mse_malware:\n",
        "    ax.plot(i, e, marker = 'o', ms = 2, linestyle='', color='black')\n",
        "    i += 1\n",
        "for e in mse_wannacry_data:\n",
        "    ax.plot(i, e, marker = 'X', ms = 5, linestyle = '', color='red', label = 'WannaCry')\n",
        "    prediction_certitude = (2. * threshold - e) / threshold\n",
        "    i += 1\n",
        "for e in mse_benign:\n",
        "    ax.plot(i, e, marker = 'o', ms = 2, linestyle = '', color = 'green')\n",
        "    i += 1\n",
        "\n",
        "ax.hlines(threshold, ax.get_xlim()[0], ax.get_xlim()[1], colors=\"red\", zorder=100)#, label='Threshold')\n",
        "\n",
        "print (f\"\\nWannaCry prediction certitude: {prediction_certitude}\")\n",
        "\n",
        "ax.legend()\n",
        "plt.title(\"Reconstruction error for different classes\")\n",
        "plt.ylabel(\"Reconstruction error\")\n",
        "plt.xlabel(\"Data point index\")\n",
        "plt.show();"
      ],
      "metadata": {
        "colab": {
          "base_uri": "https://localhost:8080/",
          "height": 330
        },
        "id": "p-cyKlZAY86q",
        "outputId": "c232c599-d6ec-41a9-9472-8f15a77a9ee4"
      },
      "execution_count": 12,
      "outputs": [
        {
          "output_type": "stream",
          "name": "stdout",
          "text": [
            "\n",
            "WannaCry prediction certitude: 1.928816624742134\n"
          ]
        },
        {
          "output_type": "display_data",
          "data": {
            "text/plain": [
              "<Figure size 432x288 with 1 Axes>"
            ],
            "image/png": "[encoded data removed]"
          },
          "metadata": {
            "needs_background": "light"
          }
        }
      ]
    }
  ]
}